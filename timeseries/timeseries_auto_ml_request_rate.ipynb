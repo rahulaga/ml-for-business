{
  "nbformat": 4,
  "nbformat_minor": 0,
  "metadata": {
    "colab": {
      "name": "timeseries_auto-ml_request-rate.ipynb",
      "provenance": [],
      "collapsed_sections": [
        "2ujza1VqO1kJ"
      ]
    },
    "kernelspec": {
      "name": "python3",
      "display_name": "Python 3"
    },
    "language_info": {
      "name": "python"
    }
  },
  "cells": [
    {
      "cell_type": "code",
      "metadata": {
        "id": "M6TkANZChPUC"
      },
      "source": [
        "import pandas as pd\n",
        "import seaborn as sns\n",
        "import matplotlib.pyplot as plt\n",
        "import numpy as np\n",
        "import statsmodels.api as sm\n",
        "from datetime import datetime\n",
        "from fbprophet import Prophet\n",
        "from fbprophet.plot import plot_plotly, plot_components_plotly"
      ],
      "execution_count": 22,
      "outputs": []
    },
    {
      "cell_type": "markdown",
      "metadata": {
        "id": "2ujza1VqO1kJ"
      },
      "source": [
        "#See first\n",
        "Refer to https://rahulaga.medium.com/time-series-forecasting-with-facebook-prophet-f0468ff6fa3b\n",
        "and this notebook first https://github.com/rahulaga/ml-for-business/blob/main/timeseries/timeseries_request-rate.ipynb\n"
      ]
    },
    {
      "cell_type": "code",
      "metadata": {
        "id": "a9amCjogjo7b"
      },
      "source": [
        "request_data = pd.read_csv('https://raw.githubusercontent.com/rahulaga/ml-for-business/main/timeseries/sample-hourly-request-rate.csv')"
      ],
      "execution_count": 23,
      "outputs": []
    },
    {
      "cell_type": "code",
      "metadata": {
        "id": "YEwhN3J_iZpG",
        "colab": {
          "base_uri": "https://localhost:8080/",
          "height": 0
        },
        "outputId": "d5df4887-bdc8-4d9e-a14b-d05007273905"
      },
      "source": [
        "request_data.tail()"
      ],
      "execution_count": 24,
      "outputs": [
        {
          "output_type": "execute_result",
          "data": {
            "text/html": [
              "\n",
              "  <div id=\"df-37432a4b-0040-4af2-9e25-16ae1389a4a9\">\n",
              "    <div class=\"colab-df-container\">\n",
              "      <div>\n",
              "<style scoped>\n",
              "    .dataframe tbody tr th:only-of-type {\n",
              "        vertical-align: middle;\n",
              "    }\n",
              "\n",
              "    .dataframe tbody tr th {\n",
              "        vertical-align: top;\n",
              "    }\n",
              "\n",
              "    .dataframe thead th {\n",
              "        text-align: right;\n",
              "    }\n",
              "</style>\n",
              "<table border=\"1\" class=\"dataframe\">\n",
              "  <thead>\n",
              "    <tr style=\"text-align: right;\">\n",
              "      <th></th>\n",
              "      <th>Time</th>\n",
              "      <th>Point</th>\n",
              "    </tr>\n",
              "  </thead>\n",
              "  <tbody>\n",
              "    <tr>\n",
              "      <th>667</th>\n",
              "      <td>5/6/21 14:00</td>\n",
              "      <td>640.439444</td>\n",
              "    </tr>\n",
              "    <tr>\n",
              "      <th>668</th>\n",
              "      <td>5/6/21 15:00</td>\n",
              "      <td>697.596944</td>\n",
              "    </tr>\n",
              "    <tr>\n",
              "      <th>669</th>\n",
              "      <td>5/6/21 16:00</td>\n",
              "      <td>647.408889</td>\n",
              "    </tr>\n",
              "    <tr>\n",
              "      <th>670</th>\n",
              "      <td>5/6/21 17:00</td>\n",
              "      <td>695.330556</td>\n",
              "    </tr>\n",
              "    <tr>\n",
              "      <th>671</th>\n",
              "      <td>5/6/21 18:00</td>\n",
              "      <td>675.820588</td>\n",
              "    </tr>\n",
              "  </tbody>\n",
              "</table>\n",
              "</div>\n",
              "      <button class=\"colab-df-convert\" onclick=\"convertToInteractive('df-37432a4b-0040-4af2-9e25-16ae1389a4a9')\"\n",
              "              title=\"Convert this dataframe to an interactive table.\"\n",
              "              style=\"display:none;\">\n",
              "        \n",
              "  <svg xmlns=\"http://www.w3.org/2000/svg\" height=\"24px\"viewBox=\"0 0 24 24\"\n",
              "       width=\"24px\">\n",
              "    <path d=\"M0 0h24v24H0V0z\" fill=\"none\"/>\n",
              "    <path d=\"M18.56 5.44l.94 2.06.94-2.06 2.06-.94-2.06-.94-.94-2.06-.94 2.06-2.06.94zm-11 1L8.5 8.5l.94-2.06 2.06-.94-2.06-.94L8.5 2.5l-.94 2.06-2.06.94zm10 10l.94 2.06.94-2.06 2.06-.94-2.06-.94-.94-2.06-.94 2.06-2.06.94z\"/><path d=\"M17.41 7.96l-1.37-1.37c-.4-.4-.92-.59-1.43-.59-.52 0-1.04.2-1.43.59L10.3 9.45l-7.72 7.72c-.78.78-.78 2.05 0 2.83L4 21.41c.39.39.9.59 1.41.59.51 0 1.02-.2 1.41-.59l7.78-7.78 2.81-2.81c.8-.78.8-2.07 0-2.86zM5.41 20L4 18.59l7.72-7.72 1.47 1.35L5.41 20z\"/>\n",
              "  </svg>\n",
              "      </button>\n",
              "      \n",
              "  <style>\n",
              "    .colab-df-container {\n",
              "      display:flex;\n",
              "      flex-wrap:wrap;\n",
              "      gap: 12px;\n",
              "    }\n",
              "\n",
              "    .colab-df-convert {\n",
              "      background-color: #E8F0FE;\n",
              "      border: none;\n",
              "      border-radius: 50%;\n",
              "      cursor: pointer;\n",
              "      display: none;\n",
              "      fill: #1967D2;\n",
              "      height: 32px;\n",
              "      padding: 0 0 0 0;\n",
              "      width: 32px;\n",
              "    }\n",
              "\n",
              "    .colab-df-convert:hover {\n",
              "      background-color: #E2EBFA;\n",
              "      box-shadow: 0px 1px 2px rgba(60, 64, 67, 0.3), 0px 1px 3px 1px rgba(60, 64, 67, 0.15);\n",
              "      fill: #174EA6;\n",
              "    }\n",
              "\n",
              "    [theme=dark] .colab-df-convert {\n",
              "      background-color: #3B4455;\n",
              "      fill: #D2E3FC;\n",
              "    }\n",
              "\n",
              "    [theme=dark] .colab-df-convert:hover {\n",
              "      background-color: #434B5C;\n",
              "      box-shadow: 0px 1px 3px 1px rgba(0, 0, 0, 0.15);\n",
              "      filter: drop-shadow(0px 1px 2px rgba(0, 0, 0, 0.3));\n",
              "      fill: #FFFFFF;\n",
              "    }\n",
              "  </style>\n",
              "\n",
              "      <script>\n",
              "        const buttonEl =\n",
              "          document.querySelector('#df-37432a4b-0040-4af2-9e25-16ae1389a4a9 button.colab-df-convert');\n",
              "        buttonEl.style.display =\n",
              "          google.colab.kernel.accessAllowed ? 'block' : 'none';\n",
              "\n",
              "        async function convertToInteractive(key) {\n",
              "          const element = document.querySelector('#df-37432a4b-0040-4af2-9e25-16ae1389a4a9');\n",
              "          const dataTable =\n",
              "            await google.colab.kernel.invokeFunction('convertToInteractive',\n",
              "                                                     [key], {});\n",
              "          if (!dataTable) return;\n",
              "\n",
              "          const docLinkHtml = 'Like what you see? Visit the ' +\n",
              "            '<a target=\"_blank\" href=https://colab.research.google.com/notebooks/data_table.ipynb>data table notebook</a>'\n",
              "            + ' to learn more about interactive tables.';\n",
              "          element.innerHTML = '';\n",
              "          dataTable['output_type'] = 'display_data';\n",
              "          await google.colab.output.renderOutput(dataTable, element);\n",
              "          const docLink = document.createElement('div');\n",
              "          docLink.innerHTML = docLinkHtml;\n",
              "          element.appendChild(docLink);\n",
              "        }\n",
              "      </script>\n",
              "    </div>\n",
              "  </div>\n",
              "  "
            ],
            "text/plain": [
              "             Time       Point\n",
              "667  5/6/21 14:00  640.439444\n",
              "668  5/6/21 15:00  697.596944\n",
              "669  5/6/21 16:00  647.408889\n",
              "670  5/6/21 17:00  695.330556\n",
              "671  5/6/21 18:00  675.820588"
            ]
          },
          "metadata": {},
          "execution_count": 24
        }
      ]
    },
    {
      "cell_type": "code",
      "metadata": {
        "id": "yoFdgTUFXXtv"
      },
      "source": [
        "#convert type to datetime\n",
        "request_data['Time'] = pd.to_datetime(request_data[\"Time\"])\n",
        "\n",
        "#For AWS the time column must be called timestamp and value as value\n",
        "#note creating copy as going to set orginal Time as index\n",
        "request_data['timestamp'] = request_data['Time']\n",
        "request_data.rename(columns={'Point': 'value'}, inplace=True)\n",
        "\n",
        "#set index as time for the series\n",
        "request_data = request_data.set_index('Time')"
      ],
      "execution_count": 25,
      "outputs": []
    },
    {
      "cell_type": "code",
      "metadata": {
        "colab": {
          "base_uri": "https://localhost:8080/"
        },
        "id": "7T5bLXXoXJIQ",
        "outputId": "803a6c7d-c02e-4044-e7b7-a56e4ca48773"
      },
      "source": [
        "request_data.info()"
      ],
      "execution_count": 26,
      "outputs": [
        {
          "output_type": "stream",
          "name": "stdout",
          "text": [
            "<class 'pandas.core.frame.DataFrame'>\n",
            "DatetimeIndex: 672 entries, 2021-04-08 19:00:00 to 2021-05-06 18:00:00\n",
            "Data columns (total 2 columns):\n",
            " #   Column     Non-Null Count  Dtype         \n",
            "---  ------     --------------  -----         \n",
            " 0   value      672 non-null    float64       \n",
            " 1   timestamp  672 non-null    datetime64[ns]\n",
            "dtypes: datetime64[ns](1), float64(1)\n",
            "memory usage: 15.8 KB\n"
          ]
        }
      ]
    },
    {
      "cell_type": "markdown",
      "metadata": {
        "id": "wrlDRaKnLbf2"
      },
      "source": [
        "Loading next set of 7day data (7*24 rows)\n",
        "Comparing this with forecast."
      ]
    },
    {
      "cell_type": "code",
      "metadata": {
        "colab": {
          "base_uri": "https://localhost:8080/",
          "height": 0
        },
        "id": "K7Tdh4anLoxu",
        "outputId": "2f848c49-413a-43b6-d292-29314fcb9906"
      },
      "source": [
        "request_data_future = pd.read_csv('https://raw.githubusercontent.com/rahulaga/ml-for-business/main/timeseries/test-hourly-request-rate.csv')\n",
        "print(request_data_future.shape)\n",
        "request_data_future.tail()"
      ],
      "execution_count": 27,
      "outputs": [
        {
          "output_type": "stream",
          "name": "stdout",
          "text": [
            "(168, 2)\n"
          ]
        },
        {
          "output_type": "execute_result",
          "data": {
            "text/html": [
              "\n",
              "  <div id=\"df-d13f2a63-e64f-48b6-995f-958dee46cdfd\">\n",
              "    <div class=\"colab-df-container\">\n",
              "      <div>\n",
              "<style scoped>\n",
              "    .dataframe tbody tr th:only-of-type {\n",
              "        vertical-align: middle;\n",
              "    }\n",
              "\n",
              "    .dataframe tbody tr th {\n",
              "        vertical-align: top;\n",
              "    }\n",
              "\n",
              "    .dataframe thead th {\n",
              "        text-align: right;\n",
              "    }\n",
              "</style>\n",
              "<table border=\"1\" class=\"dataframe\">\n",
              "  <thead>\n",
              "    <tr style=\"text-align: right;\">\n",
              "      <th></th>\n",
              "      <th>Time</th>\n",
              "      <th>Point</th>\n",
              "    </tr>\n",
              "  </thead>\n",
              "  <tbody>\n",
              "    <tr>\n",
              "      <th>163</th>\n",
              "      <td>5/13/21 14:00</td>\n",
              "      <td>856.887222</td>\n",
              "    </tr>\n",
              "    <tr>\n",
              "      <th>164</th>\n",
              "      <td>5/13/21 15:00</td>\n",
              "      <td>717.899167</td>\n",
              "    </tr>\n",
              "    <tr>\n",
              "      <th>165</th>\n",
              "      <td>5/13/21 16:00</td>\n",
              "      <td>709.526389</td>\n",
              "    </tr>\n",
              "    <tr>\n",
              "      <th>166</th>\n",
              "      <td>5/13/21 17:00</td>\n",
              "      <td>737.645278</td>\n",
              "    </tr>\n",
              "    <tr>\n",
              "      <th>167</th>\n",
              "      <td>5/13/21 18:00</td>\n",
              "      <td>855.658056</td>\n",
              "    </tr>\n",
              "  </tbody>\n",
              "</table>\n",
              "</div>\n",
              "      <button class=\"colab-df-convert\" onclick=\"convertToInteractive('df-d13f2a63-e64f-48b6-995f-958dee46cdfd')\"\n",
              "              title=\"Convert this dataframe to an interactive table.\"\n",
              "              style=\"display:none;\">\n",
              "        \n",
              "  <svg xmlns=\"http://www.w3.org/2000/svg\" height=\"24px\"viewBox=\"0 0 24 24\"\n",
              "       width=\"24px\">\n",
              "    <path d=\"M0 0h24v24H0V0z\" fill=\"none\"/>\n",
              "    <path d=\"M18.56 5.44l.94 2.06.94-2.06 2.06-.94-2.06-.94-.94-2.06-.94 2.06-2.06.94zm-11 1L8.5 8.5l.94-2.06 2.06-.94-2.06-.94L8.5 2.5l-.94 2.06-2.06.94zm10 10l.94 2.06.94-2.06 2.06-.94-2.06-.94-.94-2.06-.94 2.06-2.06.94z\"/><path d=\"M17.41 7.96l-1.37-1.37c-.4-.4-.92-.59-1.43-.59-.52 0-1.04.2-1.43.59L10.3 9.45l-7.72 7.72c-.78.78-.78 2.05 0 2.83L4 21.41c.39.39.9.59 1.41.59.51 0 1.02-.2 1.41-.59l7.78-7.78 2.81-2.81c.8-.78.8-2.07 0-2.86zM5.41 20L4 18.59l7.72-7.72 1.47 1.35L5.41 20z\"/>\n",
              "  </svg>\n",
              "      </button>\n",
              "      \n",
              "  <style>\n",
              "    .colab-df-container {\n",
              "      display:flex;\n",
              "      flex-wrap:wrap;\n",
              "      gap: 12px;\n",
              "    }\n",
              "\n",
              "    .colab-df-convert {\n",
              "      background-color: #E8F0FE;\n",
              "      border: none;\n",
              "      border-radius: 50%;\n",
              "      cursor: pointer;\n",
              "      display: none;\n",
              "      fill: #1967D2;\n",
              "      height: 32px;\n",
              "      padding: 0 0 0 0;\n",
              "      width: 32px;\n",
              "    }\n",
              "\n",
              "    .colab-df-convert:hover {\n",
              "      background-color: #E2EBFA;\n",
              "      box-shadow: 0px 1px 2px rgba(60, 64, 67, 0.3), 0px 1px 3px 1px rgba(60, 64, 67, 0.15);\n",
              "      fill: #174EA6;\n",
              "    }\n",
              "\n",
              "    [theme=dark] .colab-df-convert {\n",
              "      background-color: #3B4455;\n",
              "      fill: #D2E3FC;\n",
              "    }\n",
              "\n",
              "    [theme=dark] .colab-df-convert:hover {\n",
              "      background-color: #434B5C;\n",
              "      box-shadow: 0px 1px 3px 1px rgba(0, 0, 0, 0.15);\n",
              "      filter: drop-shadow(0px 1px 2px rgba(0, 0, 0, 0.3));\n",
              "      fill: #FFFFFF;\n",
              "    }\n",
              "  </style>\n",
              "\n",
              "      <script>\n",
              "        const buttonEl =\n",
              "          document.querySelector('#df-d13f2a63-e64f-48b6-995f-958dee46cdfd button.colab-df-convert');\n",
              "        buttonEl.style.display =\n",
              "          google.colab.kernel.accessAllowed ? 'block' : 'none';\n",
              "\n",
              "        async function convertToInteractive(key) {\n",
              "          const element = document.querySelector('#df-d13f2a63-e64f-48b6-995f-958dee46cdfd');\n",
              "          const dataTable =\n",
              "            await google.colab.kernel.invokeFunction('convertToInteractive',\n",
              "                                                     [key], {});\n",
              "          if (!dataTable) return;\n",
              "\n",
              "          const docLinkHtml = 'Like what you see? Visit the ' +\n",
              "            '<a target=\"_blank\" href=https://colab.research.google.com/notebooks/data_table.ipynb>data table notebook</a>'\n",
              "            + ' to learn more about interactive tables.';\n",
              "          element.innerHTML = '';\n",
              "          dataTable['output_type'] = 'display_data';\n",
              "          await google.colab.output.renderOutput(dataTable, element);\n",
              "          const docLink = document.createElement('div');\n",
              "          docLink.innerHTML = docLinkHtml;\n",
              "          element.appendChild(docLink);\n",
              "        }\n",
              "      </script>\n",
              "    </div>\n",
              "  </div>\n",
              "  "
            ],
            "text/plain": [
              "              Time       Point\n",
              "163  5/13/21 14:00  856.887222\n",
              "164  5/13/21 15:00  717.899167\n",
              "165  5/13/21 16:00  709.526389\n",
              "166  5/13/21 17:00  737.645278\n",
              "167  5/13/21 18:00  855.658056"
            ]
          },
          "metadata": {},
          "execution_count": 27
        }
      ]
    },
    {
      "cell_type": "code",
      "metadata": {
        "colab": {
          "base_uri": "https://localhost:8080/"
        },
        "id": "4DGJP6OeNfLt",
        "outputId": "6af94789-0aea-4626-fa43-46fe4dac5efc"
      },
      "source": [
        "request_data_future['ds'] = request_data_future['Time']\n",
        "#convert type to datetime\n",
        "request_data_future['ds'] = pd.to_datetime(request_data_future['ds'])\n",
        "\n",
        "request_data_future = request_data_future.set_index('Time')\n",
        "request_data_future.info()"
      ],
      "execution_count": 28,
      "outputs": [
        {
          "output_type": "stream",
          "name": "stdout",
          "text": [
            "<class 'pandas.core.frame.DataFrame'>\n",
            "Index: 168 entries, 5/6/21 19:00 to 5/13/21 18:00\n",
            "Data columns (total 2 columns):\n",
            " #   Column  Non-Null Count  Dtype         \n",
            "---  ------  --------------  -----         \n",
            " 0   Point   168 non-null    float64       \n",
            " 1   ds      168 non-null    datetime64[ns]\n",
            "dtypes: datetime64[ns](1), float64(1)\n",
            "memory usage: 3.9+ KB\n"
          ]
        }
      ]
    },
    {
      "cell_type": "code",
      "metadata": {
        "id": "_jMgIJw1Ra0L"
      },
      "source": [
        "#compare forecast with 7day future (used below)\n",
        "def compare_future(forecast, title):\n",
        "  forecast_tail = forecast.tail(7*24)\n",
        "  fig, ax = plt.subplots()\n",
        "  fig.set_size_inches(15,4)\n",
        "  if('yhat_lower' in forecast_tail.columns):\n",
        "    ax.fill_between(forecast_tail.ds, forecast_tail['yhat_lower'], forecast_tail['yhat_upper'], alpha=0.2)\n",
        "  line1 = plt.plot(forecast_tail.ds, forecast_tail['yhat'], c='blue', label='forecast')\n",
        "  line2 = plt.plot(request_data_future.ds, request_data_future['Point'], c='red', label='observed')\n",
        "\n",
        "  lines = line1+line2\n",
        "  labels = [l.get_label() for l in lines]\n",
        "  ax.legend(lines, labels, loc=0)\n",
        "\n",
        "  plt.title(title)"
      ],
      "execution_count": 29,
      "outputs": []
    },
    {
      "cell_type": "markdown",
      "metadata": {
        "id": "FdBFf-30a9cz"
      },
      "source": [
        "#Medium\n",
        "Refer to "
      ]
    },
    {
      "cell_type": "markdown",
      "metadata": {
        "id": "cY6Q-o9-Gc25"
      },
      "source": [
        "# AWS - Amazon Forecast"
      ]
    },
    {
      "cell_type": "code",
      "metadata": {
        "id": "o_wp3-AfGb3_"
      },
      "source": [
        "#save file to work with AWS\n",
        "request_data['item_id'] = 'ts1'\n",
        "request_data = request_data[['item_id', 'timestamp','value']]#must be in this order\n",
        "request_data.to_csv(\"sample-hourly-request-rate-aws.csv\", date_format='%Y-%m-%d %H:%M:%S', index=False)"
      ],
      "execution_count": 30,
      "outputs": []
    },
    {
      "cell_type": "code",
      "metadata": {
        "colab": {
          "base_uri": "https://localhost:8080/"
        },
        "id": "_NPyC-2zb8xr",
        "outputId": "0ad81a79-2efe-4189-fd13-338af5f2580a"
      },
      "source": [
        "# load AWS predicted results\n",
        "aws_predictions = pd.read_csv('https://raw.githubusercontent.com/rahulaga/ml-for-business/main/timeseries/predictions-aws.csv')\n",
        "print(aws_predictions.shape)\n",
        "aws_predictions.rename(columns={'p10':'yhat_lower','p50':'yhat','p90':'yhat_upper','timestamp':'ds'}, inplace=True)"
      ],
      "execution_count": 31,
      "outputs": [
        {
          "output_type": "stream",
          "name": "stdout",
          "text": [
            "(168, 4)\n"
          ]
        }
      ]
    },
    {
      "cell_type": "code",
      "metadata": {
        "colab": {
          "base_uri": "https://localhost:8080/"
        },
        "id": "p7l7bIAbF9H4",
        "outputId": "96488e52-c3bc-4caf-ee30-18f0634b3aa8"
      },
      "source": [
        "aws_predictions['ds']=pd.to_datetime(aws_predictions['ds'])\n",
        "aws_predictions.info()"
      ],
      "execution_count": 32,
      "outputs": [
        {
          "output_type": "stream",
          "name": "stdout",
          "text": [
            "<class 'pandas.core.frame.DataFrame'>\n",
            "RangeIndex: 168 entries, 0 to 167\n",
            "Data columns (total 4 columns):\n",
            " #   Column      Non-Null Count  Dtype         \n",
            "---  ------      --------------  -----         \n",
            " 0   ds          168 non-null    datetime64[ns]\n",
            " 1   yhat_lower  168 non-null    float64       \n",
            " 2   yhat        168 non-null    float64       \n",
            " 3   yhat_upper  168 non-null    float64       \n",
            "dtypes: datetime64[ns](1), float64(3)\n",
            "memory usage: 5.4 KB\n"
          ]
        }
      ]
    },
    {
      "cell_type": "code",
      "metadata": {
        "colab": {
          "base_uri": "https://localhost:8080/",
          "height": 281
        },
        "id": "LrGcrlvvGGKL",
        "outputId": "74a47b0f-2a41-4685-856b-23404407af93"
      },
      "source": [
        "compare_future(aws_predictions,'Amazon Forecast')"
      ],
      "execution_count": 33,
      "outputs": [
        {
          "output_type": "display_data",
          "data": {
            "image/png": "[encoded data removed]",
            "text/plain": [
              "<Figure size 1080x288 with 1 Axes>"
            ]
          },
          "metadata": {
            "needs_background": "light"
          }
        }
      ]
    },
    {
      "cell_type": "markdown",
      "metadata": {
        "id": "_TXBpy6hVz75"
      },
      "source": [
        "# GCP - Vertex AI"
      ]
    },
    {
      "cell_type": "code",
      "metadata": {
        "colab": {
          "base_uri": "https://localhost:8080/"
        },
        "id": "wZDIn2wKV251",
        "outputId": "970d0e31-2e9e-408e-d6e1-25b2f717cd1b"
      },
      "source": [
        "# load gcp prediction results\n",
        "gcp_predictions = pd.read_csv('https://raw.githubusercontent.com/rahulaga/ml-for-business/main/timeseries/batch-prediction-gcp-output.csv')\n",
        "print(gcp_predictions.shape)\n",
        "gcp_predictions.rename(columns={'predicted_Point': 'yhat','Time':'ds'}, inplace=True)"
      ],
      "execution_count": 34,
      "outputs": [
        {
          "output_type": "stream",
          "name": "stdout",
          "text": [
            "(168, 4)\n"
          ]
        }
      ]
    },
    {
      "cell_type": "code",
      "metadata": {
        "colab": {
          "base_uri": "https://localhost:8080/"
        },
        "id": "JsNRS0kjZKnU",
        "outputId": "bb0b80f8-7373-48ec-f880-7545c1b5f1c9"
      },
      "source": [
        "gcp_predictions['ds']=pd.to_datetime(gcp_predictions['ds'])\n",
        "gcp_predictions.info()"
      ],
      "execution_count": 35,
      "outputs": [
        {
          "output_type": "stream",
          "name": "stdout",
          "text": [
            "<class 'pandas.core.frame.DataFrame'>\n",
            "RangeIndex: 168 entries, 0 to 167\n",
            "Data columns (total 4 columns):\n",
            " #   Column  Non-Null Count  Dtype         \n",
            "---  ------  --------------  -----         \n",
            " 0   Point   0 non-null      float64       \n",
            " 1   ds      168 non-null    datetime64[ns]\n",
            " 2   ts_id   168 non-null    int64         \n",
            " 3   yhat    168 non-null    float64       \n",
            "dtypes: datetime64[ns](1), float64(2), int64(1)\n",
            "memory usage: 5.4 KB\n"
          ]
        }
      ]
    },
    {
      "cell_type": "code",
      "metadata": {
        "colab": {
          "base_uri": "https://localhost:8080/",
          "height": 206
        },
        "id": "F7XkzfTYaIK5",
        "outputId": "0acd6ea0-44fc-48b5-fab1-d941decad950"
      },
      "source": [
        "gcp_predictions.sort_values('ds', inplace=True)\n",
        "gcp_predictions.tail()"
      ],
      "execution_count": 36,
      "outputs": [
        {
          "output_type": "execute_result",
          "data": {
            "text/html": [
              "\n",
              "  <div id=\"df-089687ec-042e-4923-962a-fcf6de687d8f\">\n",
              "    <div class=\"colab-df-container\">\n",
              "      <div>\n",
              "<style scoped>\n",
              "    .dataframe tbody tr th:only-of-type {\n",
              "        vertical-align: middle;\n",
              "    }\n",
              "\n",
              "    .dataframe tbody tr th {\n",
              "        vertical-align: top;\n",
              "    }\n",
              "\n",
              "    .dataframe thead th {\n",
              "        text-align: right;\n",
              "    }\n",
              "</style>\n",
              "<table border=\"1\" class=\"dataframe\">\n",
              "  <thead>\n",
              "    <tr style=\"text-align: right;\">\n",
              "      <th></th>\n",
              "      <th>Point</th>\n",
              "      <th>ds</th>\n",
              "      <th>ts_id</th>\n",
              "      <th>yhat</th>\n",
              "    </tr>\n",
              "  </thead>\n",
              "  <tbody>\n",
              "    <tr>\n",
              "      <th>118</th>\n",
              "      <td>NaN</td>\n",
              "      <td>2021-05-13 14:00:00</td>\n",
              "      <td>1</td>\n",
              "      <td>572.350525</td>\n",
              "    </tr>\n",
              "    <tr>\n",
              "      <th>59</th>\n",
              "      <td>NaN</td>\n",
              "      <td>2021-05-13 15:00:00</td>\n",
              "      <td>1</td>\n",
              "      <td>572.644226</td>\n",
              "    </tr>\n",
              "    <tr>\n",
              "      <th>61</th>\n",
              "      <td>NaN</td>\n",
              "      <td>2021-05-13 16:00:00</td>\n",
              "      <td>1</td>\n",
              "      <td>571.257751</td>\n",
              "    </tr>\n",
              "    <tr>\n",
              "      <th>42</th>\n",
              "      <td>NaN</td>\n",
              "      <td>2021-05-13 17:00:00</td>\n",
              "      <td>1</td>\n",
              "      <td>566.577393</td>\n",
              "    </tr>\n",
              "    <tr>\n",
              "      <th>101</th>\n",
              "      <td>NaN</td>\n",
              "      <td>2021-05-13 18:00:00</td>\n",
              "      <td>1</td>\n",
              "      <td>556.856506</td>\n",
              "    </tr>\n",
              "  </tbody>\n",
              "</table>\n",
              "</div>\n",
              "      <button class=\"colab-df-convert\" onclick=\"convertToInteractive('df-089687ec-042e-4923-962a-fcf6de687d8f')\"\n",
              "              title=\"Convert this dataframe to an interactive table.\"\n",
              "              style=\"display:none;\">\n",
              "        \n",
              "  <svg xmlns=\"http://www.w3.org/2000/svg\" height=\"24px\"viewBox=\"0 0 24 24\"\n",
              "       width=\"24px\">\n",
              "    <path d=\"M0 0h24v24H0V0z\" fill=\"none\"/>\n",
              "    <path d=\"M18.56 5.44l.94 2.06.94-2.06 2.06-.94-2.06-.94-.94-2.06-.94 2.06-2.06.94zm-11 1L8.5 8.5l.94-2.06 2.06-.94-2.06-.94L8.5 2.5l-.94 2.06-2.06.94zm10 10l.94 2.06.94-2.06 2.06-.94-2.06-.94-.94-2.06-.94 2.06-2.06.94z\"/><path d=\"M17.41 7.96l-1.37-1.37c-.4-.4-.92-.59-1.43-.59-.52 0-1.04.2-1.43.59L10.3 9.45l-7.72 7.72c-.78.78-.78 2.05 0 2.83L4 21.41c.39.39.9.59 1.41.59.51 0 1.02-.2 1.41-.59l7.78-7.78 2.81-2.81c.8-.78.8-2.07 0-2.86zM5.41 20L4 18.59l7.72-7.72 1.47 1.35L5.41 20z\"/>\n",
              "  </svg>\n",
              "      </button>\n",
              "      \n",
              "  <style>\n",
              "    .colab-df-container {\n",
              "      display:flex;\n",
              "      flex-wrap:wrap;\n",
              "      gap: 12px;\n",
              "    }\n",
              "\n",
              "    .colab-df-convert {\n",
              "      background-color: #E8F0FE;\n",
              "      border: none;\n",
              "      border-radius: 50%;\n",
              "      cursor: pointer;\n",
              "      display: none;\n",
              "      fill: #1967D2;\n",
              "      height: 32px;\n",
              "      padding: 0 0 0 0;\n",
              "      width: 32px;\n",
              "    }\n",
              "\n",
              "    .colab-df-convert:hover {\n",
              "      background-color: #E2EBFA;\n",
              "      box-shadow: 0px 1px 2px rgba(60, 64, 67, 0.3), 0px 1px 3px 1px rgba(60, 64, 67, 0.15);\n",
              "      fill: #174EA6;\n",
              "    }\n",
              "\n",
              "    [theme=dark] .colab-df-convert {\n",
              "      background-color: #3B4455;\n",
              "      fill: #D2E3FC;\n",
              "    }\n",
              "\n",
              "    [theme=dark] .colab-df-convert:hover {\n",
              "      background-color: #434B5C;\n",
              "      box-shadow: 0px 1px 3px 1px rgba(0, 0, 0, 0.15);\n",
              "      filter: drop-shadow(0px 1px 2px rgba(0, 0, 0, 0.3));\n",
              "      fill: #FFFFFF;\n",
              "    }\n",
              "  </style>\n",
              "\n",
              "      <script>\n",
              "        const buttonEl =\n",
              "          document.querySelector('#df-089687ec-042e-4923-962a-fcf6de687d8f button.colab-df-convert');\n",
              "        buttonEl.style.display =\n",
              "          google.colab.kernel.accessAllowed ? 'block' : 'none';\n",
              "\n",
              "        async function convertToInteractive(key) {\n",
              "          const element = document.querySelector('#df-089687ec-042e-4923-962a-fcf6de687d8f');\n",
              "          const dataTable =\n",
              "            await google.colab.kernel.invokeFunction('convertToInteractive',\n",
              "                                                     [key], {});\n",
              "          if (!dataTable) return;\n",
              "\n",
              "          const docLinkHtml = 'Like what you see? Visit the ' +\n",
              "            '<a target=\"_blank\" href=https://colab.research.google.com/notebooks/data_table.ipynb>data table notebook</a>'\n",
              "            + ' to learn more about interactive tables.';\n",
              "          element.innerHTML = '';\n",
              "          dataTable['output_type'] = 'display_data';\n",
              "          await google.colab.output.renderOutput(dataTable, element);\n",
              "          const docLink = document.createElement('div');\n",
              "          docLink.innerHTML = docLinkHtml;\n",
              "          element.appendChild(docLink);\n",
              "        }\n",
              "      </script>\n",
              "    </div>\n",
              "  </div>\n",
              "  "
            ],
            "text/plain": [
              "     Point                  ds  ts_id        yhat\n",
              "118    NaN 2021-05-13 14:00:00      1  572.350525\n",
              "59     NaN 2021-05-13 15:00:00      1  572.644226\n",
              "61     NaN 2021-05-13 16:00:00      1  571.257751\n",
              "42     NaN 2021-05-13 17:00:00      1  566.577393\n",
              "101    NaN 2021-05-13 18:00:00      1  556.856506"
            ]
          },
          "metadata": {},
          "execution_count": 36
        }
      ]
    },
    {
      "cell_type": "code",
      "metadata": {
        "colab": {
          "base_uri": "https://localhost:8080/"
        },
        "id": "c8aTb_h-cGtD",
        "outputId": "efb044d4-8d2e-4a13-bdc2-5e717a026bf7"
      },
      "source": [
        "gcp_predictions['yhat'].describe()"
      ],
      "execution_count": 37,
      "outputs": [
        {
          "output_type": "execute_result",
          "data": {
            "text/plain": [
              "count    168.000000\n",
              "mean     493.051054\n",
              "std       73.255449\n",
              "min      391.175629\n",
              "25%      415.354774\n",
              "50%      518.141327\n",
              "75%      572.618774\n",
              "max      577.865479\n",
              "Name: yhat, dtype: float64"
            ]
          },
          "metadata": {},
          "execution_count": 37
        }
      ]
    },
    {
      "cell_type": "code",
      "metadata": {
        "colab": {
          "base_uri": "https://localhost:8080/",
          "height": 281
        },
        "id": "fjNrY2XdV28Z",
        "outputId": "e31f6c2e-d652-4da9-f8c7-af9f575693bd"
      },
      "source": [
        "compare_future(gcp_predictions,'GCP')"
      ],
      "execution_count": 38,
      "outputs": [
        {
          "output_type": "display_data",
          "data": {
            "image/png": "[encoded data removed]",
            "text/plain": [
              "<Figure size 1080x288 with 1 Axes>"
            ]
          },
          "metadata": {
            "needs_background": "light"
          }
        }
      ]
    },
    {
      "cell_type": "markdown",
      "source": [
        "# Azure AutoML"
      ],
      "metadata": {
        "id": "wG3qE-2-VcfR"
      }
    },
    {
      "cell_type": "code",
      "source": [
        "# load azure prediction results\n",
        "azure_predictions = pd.read_csv('https://raw.githubusercontent.com/rahulaga/ml-for-business/main/timeseries/predictions-azure.csv')\n",
        "print(azure_predictions.shape)\n",
        "azure_predictions.rename(columns={'Point_predicted': 'yhat','Time':'ds'}, inplace=True)"
      ],
      "metadata": {
        "colab": {
          "base_uri": "https://localhost:8080/"
        },
        "id": "Bziaiy2bVfon",
        "outputId": "b31558a4-ffd2-4a08-a5b4-a8f5454e3510"
      },
      "execution_count": 39,
      "outputs": [
        {
          "output_type": "stream",
          "name": "stdout",
          "text": [
            "(168, 3)\n"
          ]
        }
      ]
    },
    {
      "cell_type": "code",
      "source": [
        "azure_predictions['ds']=pd.to_datetime(gcp_predictions['ds'])\n",
        "azure_predictions.info()"
      ],
      "metadata": {
        "colab": {
          "base_uri": "https://localhost:8080/"
        },
        "id": "BAZjw2OSWM0y",
        "outputId": "bd29c5ce-58ab-40dd-8100-f335bb974a9b"
      },
      "execution_count": 40,
      "outputs": [
        {
          "output_type": "stream",
          "name": "stdout",
          "text": [
            "<class 'pandas.core.frame.DataFrame'>\n",
            "RangeIndex: 168 entries, 0 to 167\n",
            "Data columns (total 4 columns):\n",
            " #   Column      Non-Null Count  Dtype         \n",
            "---  ------      --------------  -----         \n",
            " 0   Point_orig  168 non-null    float64       \n",
            " 1   yhat        168 non-null    float64       \n",
            " 2   Time_orig   168 non-null    object        \n",
            " 3   ds          168 non-null    datetime64[ns]\n",
            "dtypes: datetime64[ns](1), float64(2), object(1)\n",
            "memory usage: 5.4+ KB\n"
          ]
        }
      ]
    },
    {
      "cell_type": "code",
      "source": [
        "azure_predictions.sort_values('ds', inplace=True)\n",
        "azure_predictions.tail()"
      ],
      "metadata": {
        "colab": {
          "base_uri": "https://localhost:8080/",
          "height": 206
        },
        "id": "jbSNXu2eWXjh",
        "outputId": "b800de35-a8a3-450d-9778-6cca642e89bc"
      },
      "execution_count": 41,
      "outputs": [
        {
          "output_type": "execute_result",
          "data": {
            "text/html": [
              "\n",
              "  <div id=\"df-8af77c39-f10e-49fb-82a6-fc3d292a10cc\">\n",
              "    <div class=\"colab-df-container\">\n",
              "      <div>\n",
              "<style scoped>\n",
              "    .dataframe tbody tr th:only-of-type {\n",
              "        vertical-align: middle;\n",
              "    }\n",
              "\n",
              "    .dataframe tbody tr th {\n",
              "        vertical-align: top;\n",
              "    }\n",
              "\n",
              "    .dataframe thead th {\n",
              "        text-align: right;\n",
              "    }\n",
              "</style>\n",
              "<table border=\"1\" class=\"dataframe\">\n",
              "  <thead>\n",
              "    <tr style=\"text-align: right;\">\n",
              "      <th></th>\n",
              "      <th>Point_orig</th>\n",
              "      <th>yhat</th>\n",
              "      <th>Time_orig</th>\n",
              "      <th>ds</th>\n",
              "    </tr>\n",
              "  </thead>\n",
              "  <tbody>\n",
              "    <tr>\n",
              "      <th>118</th>\n",
              "      <td>717.167778</td>\n",
              "      <td>696.612368</td>\n",
              "      <td>2021-05-11 17:00:00</td>\n",
              "      <td>2021-05-13 14:00:00</td>\n",
              "    </tr>\n",
              "    <tr>\n",
              "      <th>59</th>\n",
              "      <td>527.286111</td>\n",
              "      <td>627.660467</td>\n",
              "      <td>2021-05-09 06:00:00</td>\n",
              "      <td>2021-05-13 15:00:00</td>\n",
              "    </tr>\n",
              "    <tr>\n",
              "      <th>61</th>\n",
              "      <td>524.647222</td>\n",
              "      <td>629.723279</td>\n",
              "      <td>2021-05-09 08:00:00</td>\n",
              "      <td>2021-05-13 16:00:00</td>\n",
              "    </tr>\n",
              "    <tr>\n",
              "      <th>42</th>\n",
              "      <td>530.080556</td>\n",
              "      <td>616.834248</td>\n",
              "      <td>2021-05-08 13:00:00</td>\n",
              "      <td>2021-05-13 17:00:00</td>\n",
              "    </tr>\n",
              "    <tr>\n",
              "      <th>101</th>\n",
              "      <td>721.730278</td>\n",
              "      <td>680.650842</td>\n",
              "      <td>2021-05-11 00:00:00</td>\n",
              "      <td>2021-05-13 18:00:00</td>\n",
              "    </tr>\n",
              "  </tbody>\n",
              "</table>\n",
              "</div>\n",
              "      <button class=\"colab-df-convert\" onclick=\"convertToInteractive('df-8af77c39-f10e-49fb-82a6-fc3d292a10cc')\"\n",
              "              title=\"Convert this dataframe to an interactive table.\"\n",
              "              style=\"display:none;\">\n",
              "        \n",
              "  <svg xmlns=\"http://www.w3.org/2000/svg\" height=\"24px\"viewBox=\"0 0 24 24\"\n",
              "       width=\"24px\">\n",
              "    <path d=\"M0 0h24v24H0V0z\" fill=\"none\"/>\n",
              "    <path d=\"M18.56 5.44l.94 2.06.94-2.06 2.06-.94-2.06-.94-.94-2.06-.94 2.06-2.06.94zm-11 1L8.5 8.5l.94-2.06 2.06-.94-2.06-.94L8.5 2.5l-.94 2.06-2.06.94zm10 10l.94 2.06.94-2.06 2.06-.94-2.06-.94-.94-2.06-.94 2.06-2.06.94z\"/><path d=\"M17.41 7.96l-1.37-1.37c-.4-.4-.92-.59-1.43-.59-.52 0-1.04.2-1.43.59L10.3 9.45l-7.72 7.72c-.78.78-.78 2.05 0 2.83L4 21.41c.39.39.9.59 1.41.59.51 0 1.02-.2 1.41-.59l7.78-7.78 2.81-2.81c.8-.78.8-2.07 0-2.86zM5.41 20L4 18.59l7.72-7.72 1.47 1.35L5.41 20z\"/>\n",
              "  </svg>\n",
              "      </button>\n",
              "      \n",
              "  <style>\n",
              "    .colab-df-container {\n",
              "      display:flex;\n",
              "      flex-wrap:wrap;\n",
              "      gap: 12px;\n",
              "    }\n",
              "\n",
              "    .colab-df-convert {\n",
              "      background-color: #E8F0FE;\n",
              "      border: none;\n",
              "      border-radius: 50%;\n",
              "      cursor: pointer;\n",
              "      display: none;\n",
              "      fill: #1967D2;\n",
              "      height: 32px;\n",
              "      padding: 0 0 0 0;\n",
              "      width: 32px;\n",
              "    }\n",
              "\n",
              "    .colab-df-convert:hover {\n",
              "      background-color: #E2EBFA;\n",
              "      box-shadow: 0px 1px 2px rgba(60, 64, 67, 0.3), 0px 1px 3px 1px rgba(60, 64, 67, 0.15);\n",
              "      fill: #174EA6;\n",
              "    }\n",
              "\n",
              "    [theme=dark] .colab-df-convert {\n",
              "      background-color: #3B4455;\n",
              "      fill: #D2E3FC;\n",
              "    }\n",
              "\n",
              "    [theme=dark] .colab-df-convert:hover {\n",
              "      background-color: #434B5C;\n",
              "      box-shadow: 0px 1px 3px 1px rgba(0, 0, 0, 0.15);\n",
              "      filter: drop-shadow(0px 1px 2px rgba(0, 0, 0, 0.3));\n",
              "      fill: #FFFFFF;\n",
              "    }\n",
              "  </style>\n",
              "\n",
              "      <script>\n",
              "        const buttonEl =\n",
              "          document.querySelector('#df-8af77c39-f10e-49fb-82a6-fc3d292a10cc button.colab-df-convert');\n",
              "        buttonEl.style.display =\n",
              "          google.colab.kernel.accessAllowed ? 'block' : 'none';\n",
              "\n",
              "        async function convertToInteractive(key) {\n",
              "          const element = document.querySelector('#df-8af77c39-f10e-49fb-82a6-fc3d292a10cc');\n",
              "          const dataTable =\n",
              "            await google.colab.kernel.invokeFunction('convertToInteractive',\n",
              "                                                     [key], {});\n",
              "          if (!dataTable) return;\n",
              "\n",
              "          const docLinkHtml = 'Like what you see? Visit the ' +\n",
              "            '<a target=\"_blank\" href=https://colab.research.google.com/notebooks/data_table.ipynb>data table notebook</a>'\n",
              "            + ' to learn more about interactive tables.';\n",
              "          element.innerHTML = '';\n",
              "          dataTable['output_type'] = 'display_data';\n",
              "          await google.colab.output.renderOutput(dataTable, element);\n",
              "          const docLink = document.createElement('div');\n",
              "          docLink.innerHTML = docLinkHtml;\n",
              "          element.appendChild(docLink);\n",
              "        }\n",
              "      </script>\n",
              "    </div>\n",
              "  </div>\n",
              "  "
            ],
            "text/plain": [
              "     Point_orig        yhat            Time_orig                  ds\n",
              "118  717.167778  696.612368  2021-05-11 17:00:00 2021-05-13 14:00:00\n",
              "59   527.286111  627.660467  2021-05-09 06:00:00 2021-05-13 15:00:00\n",
              "61   524.647222  629.723279  2021-05-09 08:00:00 2021-05-13 16:00:00\n",
              "42   530.080556  616.834248  2021-05-08 13:00:00 2021-05-13 17:00:00\n",
              "101  721.730278  680.650842  2021-05-11 00:00:00 2021-05-13 18:00:00"
            ]
          },
          "metadata": {},
          "execution_count": 41
        }
      ]
    },
    {
      "cell_type": "code",
      "source": [
        "compare_future(azure_predictions,'Azure')"
      ],
      "metadata": {
        "colab": {
          "base_uri": "https://localhost:8080/",
          "height": 281
        },
        "id": "NNFo0nfqWgpi",
        "outputId": "5da566f1-6519-4592-960f-cb229982230c"
      },
      "execution_count": 42,
      "outputs": [
        {
          "output_type": "display_data",
          "data": {
            "image/png": "[encoded data removed]",
            "text/plain": [
              "<Figure size 1080x288 with 1 Axes>"
            ]
          },
          "metadata": {
            "needs_background": "light"
          }
        }
      ]
    }
  ]
}